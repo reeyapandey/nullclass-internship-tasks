# Visualize CNN Activation Maps (Task 1)

import tensorflow as tf
import numpy as np
import matplotlib.pyplot as plt
from keras.models import load_model, Model
from keras.preprocessing import image

model = load_model('Age_Sex_Detection.h5')

img_path = 'test_image.jpg'  # replace with actual image path
img = image.load_img(img_path, target_size=(128, 128), color_mode='grayscale')
img_tensor = image.img_to_array(img)
img_tensor = np.expand_dims(img_tensor, axis=0) / 255.0

layer_outputs = [layer.output for layer in model.layers if 'conv' in layer.name]
activation_model = Model(inputs=model.input, outputs=layer_outputs)
activations = activation_model.predict(img_tensor)

for i, activation in enumerate(activations):
    n_features = activation.shape[-1]
    size = activation.shape[1]
    display_grid = np.zeros((size, size * n_features))
    for j in range(n_features):
        channel_img = activation[0, :, :, j]
        channel_img -= channel_img.mean()
        channel_img /= (channel_img.std() + 1e-5)
        channel_img *= 64
        channel_img += 128
        channel_img = np.clip(channel_img, 0, 255).astype('uint8')
        display_grid[:, j * size : (j + 1) * size] = channel_img
    scale = 20. / n_features
    plt.figure(figsize=(scale * n_features, scale))
    plt.imshow(display_grid, aspect='auto', cmap='viridis')
    plt.title(f'Layer {i}')
    plt.show()
